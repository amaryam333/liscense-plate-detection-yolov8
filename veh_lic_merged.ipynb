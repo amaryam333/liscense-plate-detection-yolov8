{
  "nbformat": 4,
  "nbformat_minor": 0,
  "metadata": {
    "colab": {
      "provenance": [],
      "gpuType": "T4"
    },
    "kernelspec": {
      "name": "python3",
      "display_name": "Python 3"
    },
    "language_info": {
      "name": "python"
    },
    "accelerator": "GPU"
  },
  "cells": [
    {
      "cell_type": "code",
      "execution_count": null,
      "metadata": {
        "id": "ROaN_PZCtiOz",
        "colab": {
          "base_uri": "https://localhost:8080/"
        },
        "outputId": "c65d5685-90aa-4b8e-9e2d-283ea290f988"
      },
      "outputs": [
        {
          "output_type": "stream",
          "name": "stdout",
          "text": [
            "Drive already mounted at /content/drive; to attempt to forcibly remount, call drive.mount(\"/content/drive\", force_remount=True).\n"
          ]
        }
      ],
      "source": [
        "from google.colab import drive\n",
        "drive.mount('/content/drive')\n"
      ]
    },
    {
      "cell_type": "code",
      "source": [
        "import os\n",
        "os.chdir(\"/content/drive/MyDrive/project/veh-lic-merged\")\n",
        "\n",
        "# List files in the directory to verify\n",
        "!ls\n"
      ],
      "metadata": {
        "colab": {
          "base_uri": "https://localhost:8080/"
        },
        "id": "5aDECw9VtwfZ",
        "outputId": "075e62c4-651f-4935-dbab-e451faaf9a6f"
      },
      "execution_count": null,
      "outputs": [
        {
          "output_type": "stream",
          "name": "stdout",
          "text": [
            "'data .yaml'   test   train   val\n"
          ]
        }
      ]
    },
    {
      "cell_type": "code",
      "source": [
        "!pip install ultralytics"
      ],
      "metadata": {
        "id": "VMOBvrd-twcY",
        "colab": {
          "base_uri": "https://localhost:8080/"
        },
        "outputId": "7f061f5f-3b80-4b3b-f66a-29995f634fda"
      },
      "execution_count": null,
      "outputs": [
        {
          "output_type": "stream",
          "name": "stdout",
          "text": [
            "Collecting ultralytics\n",
            "  Downloading ultralytics-8.1.23-py3-none-any.whl (719 kB)\n",
            "\u001b[?25l     \u001b[90m━━━━━━━━━━━━━━━━━━━━━━━━━━━━━━━━━━━━━━━━\u001b[0m \u001b[32m0.0/719.3 kB\u001b[0m \u001b[31m?\u001b[0m eta \u001b[36m-:--:--\u001b[0m\r\u001b[2K     \u001b[91m━━━━━━━━━━━━━━━━━\u001b[0m\u001b[91m╸\u001b[0m\u001b[90m━━━━━━━━━━━━━━━━━━━━━━\u001b[0m \u001b[32m317.4/719.3 kB\u001b[0m \u001b[31m9.5 MB/s\u001b[0m eta \u001b[36m0:00:01\u001b[0m\r\u001b[2K     \u001b[90m━━━━━━━━━━━━━━━━━━━━━━━━━━━━━━━━━━━━━━━━\u001b[0m \u001b[32m719.3/719.3 kB\u001b[0m \u001b[31m11.2 MB/s\u001b[0m eta \u001b[36m0:00:00\u001b[0m\n",
            "\u001b[?25hRequirement already satisfied: matplotlib>=3.3.0 in /usr/local/lib/python3.10/dist-packages (from ultralytics) (3.7.1)\n",
            "Requirement already satisfied: opencv-python>=4.6.0 in /usr/local/lib/python3.10/dist-packages (from ultralytics) (4.8.0.76)\n",
            "Requirement already satisfied: pillow>=7.1.2 in /usr/local/lib/python3.10/dist-packages (from ultralytics) (9.4.0)\n",
            "Requirement already satisfied: pyyaml>=5.3.1 in /usr/local/lib/python3.10/dist-packages (from ultralytics) (6.0.1)\n",
            "Requirement already satisfied: requests>=2.23.0 in /usr/local/lib/python3.10/dist-packages (from ultralytics) (2.31.0)\n",
            "Requirement already satisfied: scipy>=1.4.1 in /usr/local/lib/python3.10/dist-packages (from ultralytics) (1.11.4)\n",
            "Requirement already satisfied: torch>=1.8.0 in /usr/local/lib/python3.10/dist-packages (from ultralytics) (2.1.0+cu121)\n",
            "Requirement already satisfied: torchvision>=0.9.0 in /usr/local/lib/python3.10/dist-packages (from ultralytics) (0.16.0+cu121)\n",
            "Requirement already satisfied: tqdm>=4.64.0 in /usr/local/lib/python3.10/dist-packages (from ultralytics) (4.66.2)\n",
            "Requirement already satisfied: psutil in /usr/local/lib/python3.10/dist-packages (from ultralytics) (5.9.5)\n",
            "Requirement already satisfied: py-cpuinfo in /usr/local/lib/python3.10/dist-packages (from ultralytics) (9.0.0)\n",
            "Collecting thop>=0.1.1 (from ultralytics)\n",
            "  Downloading thop-0.1.1.post2209072238-py3-none-any.whl (15 kB)\n",
            "Requirement already satisfied: pandas>=1.1.4 in /usr/local/lib/python3.10/dist-packages (from ultralytics) (1.5.3)\n",
            "Requirement already satisfied: seaborn>=0.11.0 in /usr/local/lib/python3.10/dist-packages (from ultralytics) (0.13.1)\n",
            "Requirement already satisfied: contourpy>=1.0.1 in /usr/local/lib/python3.10/dist-packages (from matplotlib>=3.3.0->ultralytics) (1.2.0)\n",
            "Requirement already satisfied: cycler>=0.10 in /usr/local/lib/python3.10/dist-packages (from matplotlib>=3.3.0->ultralytics) (0.12.1)\n",
            "Requirement already satisfied: fonttools>=4.22.0 in /usr/local/lib/python3.10/dist-packages (from matplotlib>=3.3.0->ultralytics) (4.49.0)\n",
            "Requirement already satisfied: kiwisolver>=1.0.1 in /usr/local/lib/python3.10/dist-packages (from matplotlib>=3.3.0->ultralytics) (1.4.5)\n",
            "Requirement already satisfied: numpy>=1.20 in /usr/local/lib/python3.10/dist-packages (from matplotlib>=3.3.0->ultralytics) (1.25.2)\n",
            "Requirement already satisfied: packaging>=20.0 in /usr/local/lib/python3.10/dist-packages (from matplotlib>=3.3.0->ultralytics) (23.2)\n",
            "Requirement already satisfied: pyparsing>=2.3.1 in /usr/local/lib/python3.10/dist-packages (from matplotlib>=3.3.0->ultralytics) (3.1.1)\n",
            "Requirement already satisfied: python-dateutil>=2.7 in /usr/local/lib/python3.10/dist-packages (from matplotlib>=3.3.0->ultralytics) (2.8.2)\n",
            "Requirement already satisfied: pytz>=2020.1 in /usr/local/lib/python3.10/dist-packages (from pandas>=1.1.4->ultralytics) (2023.4)\n",
            "Requirement already satisfied: charset-normalizer<4,>=2 in /usr/local/lib/python3.10/dist-packages (from requests>=2.23.0->ultralytics) (3.3.2)\n",
            "Requirement already satisfied: idna<4,>=2.5 in /usr/local/lib/python3.10/dist-packages (from requests>=2.23.0->ultralytics) (3.6)\n",
            "Requirement already satisfied: urllib3<3,>=1.21.1 in /usr/local/lib/python3.10/dist-packages (from requests>=2.23.0->ultralytics) (2.0.7)\n",
            "Requirement already satisfied: certifi>=2017.4.17 in /usr/local/lib/python3.10/dist-packages (from requests>=2.23.0->ultralytics) (2024.2.2)\n",
            "Requirement already satisfied: filelock in /usr/local/lib/python3.10/dist-packages (from torch>=1.8.0->ultralytics) (3.13.1)\n",
            "Requirement already satisfied: typing-extensions in /usr/local/lib/python3.10/dist-packages (from torch>=1.8.0->ultralytics) (4.10.0)\n",
            "Requirement already satisfied: sympy in /usr/local/lib/python3.10/dist-packages (from torch>=1.8.0->ultralytics) (1.12)\n",
            "Requirement already satisfied: networkx in /usr/local/lib/python3.10/dist-packages (from torch>=1.8.0->ultralytics) (3.2.1)\n",
            "Requirement already satisfied: jinja2 in /usr/local/lib/python3.10/dist-packages (from torch>=1.8.0->ultralytics) (3.1.3)\n",
            "Requirement already satisfied: fsspec in /usr/local/lib/python3.10/dist-packages (from torch>=1.8.0->ultralytics) (2023.6.0)\n",
            "Requirement already satisfied: triton==2.1.0 in /usr/local/lib/python3.10/dist-packages (from torch>=1.8.0->ultralytics) (2.1.0)\n",
            "Requirement already satisfied: six>=1.5 in /usr/local/lib/python3.10/dist-packages (from python-dateutil>=2.7->matplotlib>=3.3.0->ultralytics) (1.16.0)\n",
            "Requirement already satisfied: MarkupSafe>=2.0 in /usr/local/lib/python3.10/dist-packages (from jinja2->torch>=1.8.0->ultralytics) (2.1.5)\n",
            "Requirement already satisfied: mpmath>=0.19 in /usr/local/lib/python3.10/dist-packages (from sympy->torch>=1.8.0->ultralytics) (1.3.0)\n",
            "Installing collected packages: thop, ultralytics\n",
            "Successfully installed thop-0.1.1.post2209072238 ultralytics-8.1.23\n"
          ]
        }
      ]
    },
    {
      "cell_type": "code",
      "source": [
        "import ultralytics"
      ],
      "metadata": {
        "id": "As93ADG6twZl"
      },
      "execution_count": null,
      "outputs": []
    },
    {
      "cell_type": "code",
      "source": [
        "from ultralytics import YOLO"
      ],
      "metadata": {
        "id": "SKa2qIwXtwXP"
      },
      "execution_count": null,
      "outputs": []
    },
    {
      "cell_type": "code",
      "source": [
        "!yolo  task=detect mode=train model=yolov8s.pt imgsz=640 data='/content/drive/MyDrive/project/veh-lic-merged/data.yaml' epochs=20 batch=16 name=yolov8s"
      ],
      "metadata": {
        "id": "Z5mkCiaAtwJ3",
        "colab": {
          "base_uri": "https://localhost:8080/"
        },
        "outputId": "7f042ab0-4aa1-4278-ed9c-87263c18fe76"
      },
      "execution_count": null,
      "outputs": [
        {
          "output_type": "stream",
          "name": "stdout",
          "text": [
            "Downloading https://github.com/ultralytics/assets/releases/download/v8.1.0/yolov8s.pt to 'yolov8s.pt'...\n",
            "100% 21.5M/21.5M [00:00<00:00, 164MB/s]\n",
            "Ultralytics YOLOv8.1.23 🚀 Python-3.10.12 torch-2.1.0+cu121 CUDA:0 (Tesla T4, 15102MiB)\n",
            "\u001b[34m\u001b[1mengine/trainer: \u001b[0mtask=detect, mode=train, model=yolov8s.pt, data=/content/drive/MyDrive/project/veh-lic-merged/data.yaml, epochs=20, time=None, patience=100, batch=16, imgsz=640, save=True, save_period=-1, cache=False, device=None, workers=8, project=None, name=yolov8s, exist_ok=False, pretrained=True, optimizer=auto, verbose=True, seed=0, deterministic=True, single_cls=False, rect=False, cos_lr=False, close_mosaic=10, resume=False, amp=True, fraction=1.0, profile=False, freeze=None, multi_scale=False, overlap_mask=True, mask_ratio=4, dropout=0.0, val=True, split=val, save_json=False, save_hybrid=False, conf=None, iou=0.7, max_det=300, half=False, dnn=False, plots=True, source=None, vid_stride=1, stream_buffer=False, visualize=False, augment=False, agnostic_nms=False, classes=None, retina_masks=False, embed=None, show=False, save_frames=False, save_txt=False, save_conf=False, save_crop=False, show_labels=True, show_conf=True, show_boxes=True, line_width=None, format=torchscript, keras=False, optimize=False, int8=False, dynamic=False, simplify=False, opset=None, workspace=4, nms=False, lr0=0.01, lrf=0.01, momentum=0.937, weight_decay=0.0005, warmup_epochs=3.0, warmup_momentum=0.8, warmup_bias_lr=0.1, box=7.5, cls=0.5, dfl=1.5, pose=12.0, kobj=1.0, label_smoothing=0.0, nbs=64, hsv_h=0.015, hsv_s=0.7, hsv_v=0.4, degrees=0.0, translate=0.1, scale=0.5, shear=0.0, perspective=0.0, flipud=0.0, fliplr=0.5, mosaic=1.0, mixup=0.0, copy_paste=0.0, auto_augment=randaugment, erasing=0.4, crop_fraction=1.0, cfg=None, tracker=botsort.yaml, save_dir=runs/detect/yolov8s\n",
            "Downloading https://ultralytics.com/assets/Arial.ttf to '/root/.config/Ultralytics/Arial.ttf'...\n",
            "100% 755k/755k [00:00<00:00, 38.1MB/s]\n",
            "2024-03-04 18:36:42.319503: E external/local_xla/xla/stream_executor/cuda/cuda_dnn.cc:9261] Unable to register cuDNN factory: Attempting to register factory for plugin cuDNN when one has already been registered\n",
            "2024-03-04 18:36:42.319583: E external/local_xla/xla/stream_executor/cuda/cuda_fft.cc:607] Unable to register cuFFT factory: Attempting to register factory for plugin cuFFT when one has already been registered\n",
            "2024-03-04 18:36:42.320985: E external/local_xla/xla/stream_executor/cuda/cuda_blas.cc:1515] Unable to register cuBLAS factory: Attempting to register factory for plugin cuBLAS when one has already been registered\n",
            "Overriding model.yaml nc=80 with nc=2\n",
            "\n",
            "                   from  n    params  module                                       arguments                     \n",
            "  0                  -1  1       928  ultralytics.nn.modules.conv.Conv             [3, 32, 3, 2]                 \n",
            "  1                  -1  1     18560  ultralytics.nn.modules.conv.Conv             [32, 64, 3, 2]                \n",
            "  2                  -1  1     29056  ultralytics.nn.modules.block.C2f             [64, 64, 1, True]             \n",
            "  3                  -1  1     73984  ultralytics.nn.modules.conv.Conv             [64, 128, 3, 2]               \n",
            "  4                  -1  2    197632  ultralytics.nn.modules.block.C2f             [128, 128, 2, True]           \n",
            "  5                  -1  1    295424  ultralytics.nn.modules.conv.Conv             [128, 256, 3, 2]              \n",
            "  6                  -1  2    788480  ultralytics.nn.modules.block.C2f             [256, 256, 2, True]           \n",
            "  7                  -1  1   1180672  ultralytics.nn.modules.conv.Conv             [256, 512, 3, 2]              \n",
            "  8                  -1  1   1838080  ultralytics.nn.modules.block.C2f             [512, 512, 1, True]           \n",
            "  9                  -1  1    656896  ultralytics.nn.modules.block.SPPF            [512, 512, 5]                 \n",
            " 10                  -1  1         0  torch.nn.modules.upsampling.Upsample         [None, 2, 'nearest']          \n",
            " 11             [-1, 6]  1         0  ultralytics.nn.modules.conv.Concat           [1]                           \n",
            " 12                  -1  1    591360  ultralytics.nn.modules.block.C2f             [768, 256, 1]                 \n",
            " 13                  -1  1         0  torch.nn.modules.upsampling.Upsample         [None, 2, 'nearest']          \n",
            " 14             [-1, 4]  1         0  ultralytics.nn.modules.conv.Concat           [1]                           \n",
            " 15                  -1  1    148224  ultralytics.nn.modules.block.C2f             [384, 128, 1]                 \n",
            " 16                  -1  1    147712  ultralytics.nn.modules.conv.Conv             [128, 128, 3, 2]              \n",
            " 17            [-1, 12]  1         0  ultralytics.nn.modules.conv.Concat           [1]                           \n",
            " 18                  -1  1    493056  ultralytics.nn.modules.block.C2f             [384, 256, 1]                 \n",
            " 19                  -1  1    590336  ultralytics.nn.modules.conv.Conv             [256, 256, 3, 2]              \n",
            " 20             [-1, 9]  1         0  ultralytics.nn.modules.conv.Concat           [1]                           \n",
            " 21                  -1  1   1969152  ultralytics.nn.modules.block.C2f             [768, 512, 1]                 \n",
            " 22        [15, 18, 21]  1   2116822  ultralytics.nn.modules.head.Detect           [2, [128, 256, 512]]          \n",
            "Model summary: 225 layers, 11136374 parameters, 11136358 gradients, 28.6 GFLOPs\n",
            "\n",
            "Transferred 349/355 items from pretrained weights\n",
            "\u001b[34m\u001b[1mTensorBoard: \u001b[0mStart with 'tensorboard --logdir runs/detect/yolov8s', view at http://localhost:6006/\n",
            "Freezing layer 'model.22.dfl.conv.weight'\n",
            "\u001b[34m\u001b[1mAMP: \u001b[0mrunning Automatic Mixed Precision (AMP) checks with YOLOv8n...\n",
            "Downloading https://github.com/ultralytics/assets/releases/download/v8.1.0/yolov8n.pt to 'yolov8n.pt'...\n",
            "100% 6.23M/6.23M [00:00<00:00, 132MB/s]\n",
            "\u001b[34m\u001b[1mAMP: \u001b[0mchecks passed ✅\n",
            "\u001b[34m\u001b[1mtrain: \u001b[0mScanning /content/drive/MyDrive/project/veh-lic-merged/train/labels... 316 images, 0 backgrounds, 0 corrupt: 100% 316/316 [02:14<00:00,  2.34it/s]\n",
            "\u001b[34m\u001b[1mtrain: \u001b[0mNew cache created: /content/drive/MyDrive/project/veh-lic-merged/train/labels.cache\n",
            "WARNING ⚠️ Box and segment counts should be equal, but got len(segments) = 4, len(boxes) = 962. To resolve this only boxes will be used and all segments will be removed. To avoid this please supply either a detect or segment dataset, not a detect-segment mixed dataset.\n",
            "\u001b[34m\u001b[1malbumentations: \u001b[0mBlur(p=0.01, blur_limit=(3, 7)), MedianBlur(p=0.01, blur_limit=(3, 7)), ToGray(p=0.01), CLAHE(p=0.01, clip_limit=(1, 4.0), tile_grid_size=(8, 8))\n",
            "\u001b[34m\u001b[1mval: \u001b[0mScanning /content/drive/MyDrive/project/veh-lic-merged/val/labels... 90 images, 0 backgrounds, 0 corrupt: 100% 90/90 [01:13<00:00,  1.23it/s]\n",
            "\u001b[34m\u001b[1mval: \u001b[0mNew cache created: /content/drive/MyDrive/project/veh-lic-merged/val/labels.cache\n",
            "Plotting labels to runs/detect/yolov8s/labels.jpg... \n",
            "\u001b[34m\u001b[1moptimizer:\u001b[0m 'optimizer=auto' found, ignoring 'lr0=0.01' and 'momentum=0.937' and determining best 'optimizer', 'lr0' and 'momentum' automatically... \n",
            "\u001b[34m\u001b[1moptimizer:\u001b[0m AdamW(lr=0.001667, momentum=0.9) with parameter groups 57 weight(decay=0.0), 64 weight(decay=0.0005), 63 bias(decay=0.0)\n",
            "\u001b[34m\u001b[1mTensorBoard: \u001b[0mmodel graph visualization added ✅\n",
            "Image sizes 640 train, 640 val\n",
            "Using 2 dataloader workers\n",
            "Logging results to \u001b[1mruns/detect/yolov8s\u001b[0m\n",
            "Starting training for 20 epochs...\n",
            "\n",
            "      Epoch    GPU_mem   box_loss   cls_loss   dfl_loss  Instances       Size\n",
            "       1/20      4.11G      1.064      2.217      1.355         80        640: 100% 20/20 [00:12<00:00,  1.61it/s]\n",
            "                 Class     Images  Instances      Box(P          R      mAP50  mAP50-95): 100% 3/3 [00:02<00:00,  1.16it/s]\n",
            "                   all         90        262      0.756      0.748      0.773      0.527\n",
            "\n",
            "      Epoch    GPU_mem   box_loss   cls_loss   dfl_loss  Instances       Size\n",
            "       2/20      4.18G     0.9544        1.1      1.282         69        640: 100% 20/20 [00:08<00:00,  2.35it/s]\n",
            "                 Class     Images  Instances      Box(P          R      mAP50  mAP50-95): 100% 3/3 [00:01<00:00,  1.81it/s]\n",
            "                   all         90        262      0.708      0.672      0.654      0.409\n",
            "\n",
            "      Epoch    GPU_mem   box_loss   cls_loss   dfl_loss  Instances       Size\n",
            "       3/20      4.16G      1.036      1.106      1.352         77        640: 100% 20/20 [00:08<00:00,  2.41it/s]\n",
            "                 Class     Images  Instances      Box(P          R      mAP50  mAP50-95): 100% 3/3 [00:01<00:00,  2.16it/s]\n",
            "                   all         90        262      0.646      0.681      0.678      0.428\n",
            "\n",
            "      Epoch    GPU_mem   box_loss   cls_loss   dfl_loss  Instances       Size\n",
            "       4/20      4.15G      1.076      1.052      1.364         70        640: 100% 20/20 [00:07<00:00,  2.81it/s]\n",
            "                 Class     Images  Instances      Box(P          R      mAP50  mAP50-95): 100% 3/3 [00:01<00:00,  1.51it/s]\n",
            "                   all         90        262      0.636      0.644      0.635      0.387\n",
            "\n",
            "      Epoch    GPU_mem   box_loss   cls_loss   dfl_loss  Instances       Size\n",
            "       5/20      4.21G      1.102      1.021      1.371         73        640: 100% 20/20 [00:06<00:00,  3.04it/s]\n",
            "                 Class     Images  Instances      Box(P          R      mAP50  mAP50-95): 100% 3/3 [00:01<00:00,  2.10it/s]\n",
            "                   all         90        262       0.66      0.666      0.647      0.368\n",
            "\n",
            "      Epoch    GPU_mem   box_loss   cls_loss   dfl_loss  Instances       Size\n",
            "       6/20      4.14G      1.062     0.9773      1.335         80        640: 100% 20/20 [00:08<00:00,  2.48it/s]\n",
            "                 Class     Images  Instances      Box(P          R      mAP50  mAP50-95): 100% 3/3 [00:01<00:00,  1.82it/s]\n",
            "                   all         90        262       0.67      0.668      0.632      0.408\n",
            "\n",
            "      Epoch    GPU_mem   box_loss   cls_loss   dfl_loss  Instances       Size\n",
            "       7/20      4.17G      1.039     0.9357      1.359         64        640: 100% 20/20 [00:08<00:00,  2.48it/s]\n",
            "                 Class     Images  Instances      Box(P          R      mAP50  mAP50-95): 100% 3/3 [00:01<00:00,  1.85it/s]\n",
            "                   all         90        262      0.797      0.649      0.731      0.466\n",
            "\n",
            "      Epoch    GPU_mem   box_loss   cls_loss   dfl_loss  Instances       Size\n",
            "       8/20      4.14G      1.021     0.9296      1.331         66        640: 100% 20/20 [00:06<00:00,  2.86it/s]\n",
            "                 Class     Images  Instances      Box(P          R      mAP50  mAP50-95): 100% 3/3 [00:02<00:00,  1.17it/s]\n",
            "                   all         90        262      0.617      0.518      0.525      0.338\n",
            "\n",
            "      Epoch    GPU_mem   box_loss   cls_loss   dfl_loss  Instances       Size\n",
            "       9/20      4.18G      1.006     0.9133      1.328         65        640: 100% 20/20 [00:06<00:00,  2.99it/s]\n",
            "                 Class     Images  Instances      Box(P          R      mAP50  mAP50-95): 100% 3/3 [00:01<00:00,  1.81it/s]\n",
            "                   all         90        262       0.84      0.637      0.737      0.473\n",
            "\n",
            "      Epoch    GPU_mem   box_loss   cls_loss   dfl_loss  Instances       Size\n",
            "      10/20      4.15G          1     0.8747      1.313         60        640: 100% 20/20 [00:08<00:00,  2.43it/s]\n",
            "                 Class     Images  Instances      Box(P          R      mAP50  mAP50-95): 100% 3/3 [00:01<00:00,  2.08it/s]\n",
            "                   all         90        262      0.819      0.636      0.747      0.495\n",
            "Closing dataloader mosaic\n",
            "\u001b[34m\u001b[1malbumentations: \u001b[0mBlur(p=0.01, blur_limit=(3, 7)), MedianBlur(p=0.01, blur_limit=(3, 7)), ToGray(p=0.01), CLAHE(p=0.01, clip_limit=(1, 4.0), tile_grid_size=(8, 8))\n",
            "\n",
            "      Epoch    GPU_mem   box_loss   cls_loss   dfl_loss  Instances       Size\n",
            "      11/20      4.13G     0.9504     0.8786      1.302         26        640: 100% 20/20 [00:10<00:00,  1.86it/s]\n",
            "                 Class     Images  Instances      Box(P          R      mAP50  mAP50-95): 100% 3/3 [00:01<00:00,  2.44it/s]\n",
            "                   all         90        262      0.847      0.645      0.758      0.498\n",
            "\n",
            "      Epoch    GPU_mem   box_loss   cls_loss   dfl_loss  Instances       Size\n",
            "      12/20      4.15G     0.9311     0.8149      1.307         39        640: 100% 20/20 [00:08<00:00,  2.48it/s]\n",
            "                 Class     Images  Instances      Box(P          R      mAP50  mAP50-95): 100% 3/3 [00:01<00:00,  2.24it/s]\n",
            "                   all         90        262      0.743      0.738      0.781      0.541\n",
            "\n",
            "      Epoch    GPU_mem   box_loss   cls_loss   dfl_loss  Instances       Size\n",
            "      13/20      4.12G     0.9005     0.7848      1.249         50        640: 100% 20/20 [00:06<00:00,  3.26it/s]\n",
            "                 Class     Images  Instances      Box(P          R      mAP50  mAP50-95): 100% 3/3 [00:02<00:00,  1.40it/s]\n",
            "                   all         90        262      0.867      0.735      0.821      0.591\n",
            "\n",
            "      Epoch    GPU_mem   box_loss   cls_loss   dfl_loss  Instances       Size\n",
            "      14/20      4.13G     0.8867     0.7337      1.253         37        640: 100% 20/20 [00:06<00:00,  3.14it/s]\n",
            "                 Class     Images  Instances      Box(P          R      mAP50  mAP50-95): 100% 3/3 [00:01<00:00,  2.00it/s]\n",
            "                   all         90        262      0.855      0.749      0.842      0.606\n",
            "\n",
            "      Epoch    GPU_mem   box_loss   cls_loss   dfl_loss  Instances       Size\n",
            "      15/20      4.15G      0.835     0.7175      1.209         31        640: 100% 20/20 [00:08<00:00,  2.47it/s]\n",
            "                 Class     Images  Instances      Box(P          R      mAP50  mAP50-95): 100% 3/3 [00:01<00:00,  2.25it/s]\n",
            "                   all         90        262      0.876      0.728      0.833        0.6\n",
            "\n",
            "      Epoch    GPU_mem   box_loss   cls_loss   dfl_loss  Instances       Size\n",
            "      16/20      4.15G     0.8061      0.668      1.202         30        640: 100% 20/20 [00:07<00:00,  2.57it/s]\n",
            "                 Class     Images  Instances      Box(P          R      mAP50  mAP50-95): 100% 3/3 [00:01<00:00,  2.17it/s]\n",
            "                   all         90        262      0.867      0.755      0.846      0.633\n",
            "\n",
            "      Epoch    GPU_mem   box_loss   cls_loss   dfl_loss  Instances       Size\n",
            "      17/20      4.14G     0.7941     0.6409      1.164         29        640: 100% 20/20 [00:06<00:00,  3.26it/s]\n",
            "                 Class     Images  Instances      Box(P          R      mAP50  mAP50-95): 100% 3/3 [00:01<00:00,  1.53it/s]\n",
            "                   all         90        262      0.893      0.776       0.86      0.644\n",
            "\n",
            "      Epoch    GPU_mem   box_loss   cls_loss   dfl_loss  Instances       Size\n",
            "      18/20      4.14G     0.7619      0.619      1.165         30        640: 100% 20/20 [00:06<00:00,  3.25it/s]\n",
            "                 Class     Images  Instances      Box(P          R      mAP50  mAP50-95): 100% 3/3 [00:01<00:00,  1.99it/s]\n",
            "                   all         90        262      0.891      0.784      0.857      0.646\n",
            "\n",
            "      Epoch    GPU_mem   box_loss   cls_loss   dfl_loss  Instances       Size\n",
            "      19/20      4.12G     0.7461     0.6018      1.141         39        640: 100% 20/20 [00:07<00:00,  2.61it/s]\n",
            "                 Class     Images  Instances      Box(P          R      mAP50  mAP50-95): 100% 3/3 [00:01<00:00,  2.26it/s]\n",
            "                   all         90        262      0.843      0.805      0.857      0.647\n",
            "\n",
            "      Epoch    GPU_mem   box_loss   cls_loss   dfl_loss  Instances       Size\n",
            "      20/20      4.13G     0.7071     0.5697      1.117         30        640: 100% 20/20 [00:07<00:00,  2.57it/s]\n",
            "                 Class     Images  Instances      Box(P          R      mAP50  mAP50-95): 100% 3/3 [00:01<00:00,  1.99it/s]\n",
            "                   all         90        262      0.897      0.784      0.863      0.651\n",
            "\n",
            "20 epochs completed in 0.062 hours.\n",
            "Optimizer stripped from runs/detect/yolov8s/weights/last.pt, 22.5MB\n",
            "Optimizer stripped from runs/detect/yolov8s/weights/best.pt, 22.5MB\n",
            "\n",
            "Validating runs/detect/yolov8s/weights/best.pt...\n",
            "Ultralytics YOLOv8.1.23 🚀 Python-3.10.12 torch-2.1.0+cu121 CUDA:0 (Tesla T4, 15102MiB)\n",
            "Model summary (fused): 168 layers, 11126358 parameters, 0 gradients, 28.4 GFLOPs\n",
            "                 Class     Images  Instances      Box(P          R      mAP50  mAP50-95): 100% 3/3 [00:02<00:00,  1.42it/s]\n",
            "                   all         90        262      0.897      0.784      0.863       0.65\n",
            "         license-plate         90        105      0.934      0.867       0.91      0.667\n",
            "               vehicle         90        157      0.861      0.701      0.815      0.634\n",
            "Speed: 0.2ms preprocess, 4.8ms inference, 0.0ms loss, 5.0ms postprocess per image\n",
            "Results saved to \u001b[1mruns/detect/yolov8s\u001b[0m\n",
            "💡 Learn more at https://docs.ultralytics.com/modes/train\n"
          ]
        }
      ]
    },
    {
      "cell_type": "code",
      "source": [
        "!yolo task=detect mode=predict model='/content/drive/MyDrive/project/veh-lic-merged/runs/detect/yolov8s/weights/best.pt' conf=0.60 source='/content/drive/MyDrive/project/veh-lic-merged/test/images'"
      ],
      "metadata": {
        "id": "HvOOa3mStxLx",
        "colab": {
          "base_uri": "https://localhost:8080/"
        },
        "outputId": "95b20223-7e3b-49ba-abae-8fe9c410449b"
      },
      "execution_count": null,
      "outputs": [
        {
          "output_type": "stream",
          "name": "stdout",
          "text": [
            "Ultralytics YOLOv8.1.23 🚀 Python-3.10.12 torch-2.1.0+cu121 CUDA:0 (Tesla T4, 15102MiB)\n",
            "Model summary (fused): 168 layers, 11126358 parameters, 0 gradients, 28.4 GFLOPs\n",
            "\n",
            "image 1/80 /content/drive/MyDrive/project/veh-lic-merged/test/images/DSC_0975_JPG.rf.645e11d8fa0731e48e64e0c96c3cafb5.jpg: 640x640 1 license-plate, 1 vehicle, 16.4ms\n",
            "image 2/80 /content/drive/MyDrive/project/veh-lic-merged/test/images/DSC_1006_JPG.rf.da13607593d745252fafe0a26e299e85.jpg: 640x640 1 license-plate, 1 vehicle, 16.4ms\n",
            "image 3/80 /content/drive/MyDrive/project/veh-lic-merged/test/images/DSC_1011_JPG.rf.74bb3084f2fa0afc0f0be163c47a3fe2.jpg: 640x640 1 license-plate, 1 vehicle, 16.4ms\n",
            "image 4/80 /content/drive/MyDrive/project/veh-lic-merged/test/images/DSC_1020_JPG.rf.7cd55d21406db1f36f5c666d6db30a57.jpg: 640x640 1 license-plate, 1 vehicle, 16.4ms\n",
            "image 5/80 /content/drive/MyDrive/project/veh-lic-merged/test/images/DSC_1029_JPG.rf.5b6417e47247c4928a2d09db18073203.jpg: 640x640 1 license-plate, 1 vehicle, 16.4ms\n",
            "image 6/80 /content/drive/MyDrive/project/veh-lic-merged/test/images/DSC_1039x_jpg.rf.e88e8a5f71929f17450641867198efbc.jpg: 640x640 1 license-plate, 1 vehicle, 16.3ms\n",
            "image 7/80 /content/drive/MyDrive/project/veh-lic-merged/test/images/DSC_1064_JPG.rf.762c16d91fd11c5d7902be1975984dca.jpg: 640x640 1 license-plate, 1 vehicle, 16.4ms\n",
            "image 8/80 /content/drive/MyDrive/project/veh-lic-merged/test/images/DSC_1069_JPG.rf.cff0bd20e24743f044e83134ce5e61f9.jpg: 640x640 1 license-plate, 1 vehicle, 16.4ms\n",
            "image 9/80 /content/drive/MyDrive/project/veh-lic-merged/test/images/DSC_1094_JPG.rf.de9666d8942745d91059b9ef76153a44.jpg: 640x640 1 license-plate, 1 vehicle, 16.4ms\n",
            "image 10/80 /content/drive/MyDrive/project/veh-lic-merged/test/images/DSC_1105_JPG.rf.8e2fecf8c5fce2e3bc7f12906660a6f9.jpg: 640x640 1 license-plate, 1 vehicle, 16.3ms\n",
            "image 11/80 /content/drive/MyDrive/project/veh-lic-merged/test/images/b15d6c0bdf90226d_jpg.rf.775557ba6aaf7d76a8d4bb04f66d8fc5 - Copy.jpg: 640x640 1 license-plate, 1 vehicle, 16.4ms\n",
            "image 12/80 /content/drive/MyDrive/project/veh-lic-merged/test/images/b15d6c0bdf90226d_jpg.rf.775557ba6aaf7d76a8d4bb04f66d8fc5.jpg: 640x640 1 license-plate, 1 vehicle, 16.4ms\n",
            "image 13/80 /content/drive/MyDrive/project/veh-lic-merged/test/images/b193070a9c45b5ab_jpg.rf.57e5987eb896a7bf9fc7a1a96a660c7e - Copy.jpg: 640x640 1 license-plate, 1 vehicle, 16.3ms\n",
            "image 14/80 /content/drive/MyDrive/project/veh-lic-merged/test/images/b193070a9c45b5ab_jpg.rf.57e5987eb896a7bf9fc7a1a96a660c7e.jpg: 640x640 1 license-plate, 1 vehicle, 16.4ms\n",
            "image 15/80 /content/drive/MyDrive/project/veh-lic-merged/test/images/b1a50a3824887ee2_jpg.rf.68a4fd34fce20184287592f2680f895b - Copy.jpg: 640x640 1 license-plate, 1 vehicle, 16.4ms\n",
            "image 16/80 /content/drive/MyDrive/project/veh-lic-merged/test/images/b1a50a3824887ee2_jpg.rf.68a4fd34fce20184287592f2680f895b.jpg: 640x640 1 license-plate, 1 vehicle, 16.4ms\n",
            "image 17/80 /content/drive/MyDrive/project/veh-lic-merged/test/images/b25d7d2cb7abf86b_jpg.rf.36edce738b0e69965e001035d6f85ab3 - Copy.jpg: 640x640 1 license-plate, 1 vehicle, 16.4ms\n",
            "image 18/80 /content/drive/MyDrive/project/veh-lic-merged/test/images/b25d7d2cb7abf86b_jpg.rf.36edce738b0e69965e001035d6f85ab3.jpg: 640x640 1 license-plate, 1 vehicle, 16.4ms\n",
            "image 19/80 /content/drive/MyDrive/project/veh-lic-merged/test/images/b32671b7cc279583_jpg.rf.f898026e2169a3b6adc4d21aee6d06c5 - Copy.jpg: 640x640 1 license-plate, 1 vehicle, 16.4ms\n",
            "image 20/80 /content/drive/MyDrive/project/veh-lic-merged/test/images/b32671b7cc279583_jpg.rf.f898026e2169a3b6adc4d21aee6d06c5.jpg: 640x640 1 license-plate, 1 vehicle, 16.4ms\n",
            "image 21/80 /content/drive/MyDrive/project/veh-lic-merged/test/images/b3b61da98e22cd4a_jpg.rf.e5f31065702d60c5746652895714f770 - Copy.jpg: 640x640 1 license-plate, 1 vehicle, 16.4ms\n",
            "image 22/80 /content/drive/MyDrive/project/veh-lic-merged/test/images/b3b61da98e22cd4a_jpg.rf.e5f31065702d60c5746652895714f770.jpg: 640x640 1 license-plate, 1 vehicle, 16.4ms\n",
            "image 23/80 /content/drive/MyDrive/project/veh-lic-merged/test/images/b5e7183b6a5abe6c_jpg.rf.fa89af80aebfc925bb0121ab5b024260 - Copy.jpg: 640x640 1 license-plate, 1 vehicle, 16.4ms\n",
            "image 24/80 /content/drive/MyDrive/project/veh-lic-merged/test/images/b5e7183b6a5abe6c_jpg.rf.fa89af80aebfc925bb0121ab5b024260.jpg: 640x640 1 license-plate, 1 vehicle, 16.3ms\n",
            "image 25/80 /content/drive/MyDrive/project/veh-lic-merged/test/images/b6580dec5ada277d_jpg.rf.3ec17c0d68df1e6818d590e410bc3d00 - Copy.jpg: 640x640 1 license-plate, 1 vehicle, 16.4ms\n",
            "image 26/80 /content/drive/MyDrive/project/veh-lic-merged/test/images/b6580dec5ada277d_jpg.rf.3ec17c0d68df1e6818d590e410bc3d00.jpg: 640x640 1 license-plate, 1 vehicle, 16.4ms\n",
            "image 27/80 /content/drive/MyDrive/project/veh-lic-merged/test/images/b6e55f97085c3732_jpg.rf.09a6d8dc1a08e66131bdb8b57377b05b - Copy.jpg: 640x640 1 license-plate, 1 vehicle, 16.3ms\n",
            "image 28/80 /content/drive/MyDrive/project/veh-lic-merged/test/images/b6e55f97085c3732_jpg.rf.09a6d8dc1a08e66131bdb8b57377b05b.jpg: 640x640 1 license-plate, 1 vehicle, 16.4ms\n",
            "image 29/80 /content/drive/MyDrive/project/veh-lic-merged/test/images/b6ecda23586a6ba5_jpg.rf.d737139968dd3f08447305aa7b7f6002 - Copy.jpg: 640x640 1 license-plate, 1 vehicle, 16.4ms\n",
            "image 30/80 /content/drive/MyDrive/project/veh-lic-merged/test/images/b6ecda23586a6ba5_jpg.rf.d737139968dd3f08447305aa7b7f6002.jpg: 640x640 1 license-plate, 1 vehicle, 16.4ms\n",
            "image 31/80 /content/drive/MyDrive/project/veh-lic-merged/test/images/b7cdb5c0c99002b7_jpg.rf.2c46810fbf4036039cb03a135e20e9c3 - Copy.jpg: 640x640 1 license-plate, 2 vehicles, 16.4ms\n",
            "image 32/80 /content/drive/MyDrive/project/veh-lic-merged/test/images/b7cdb5c0c99002b7_jpg.rf.2c46810fbf4036039cb03a135e20e9c3.jpg: 640x640 1 license-plate, 2 vehicles, 16.3ms\n",
            "image 33/80 /content/drive/MyDrive/project/veh-lic-merged/test/images/b8a3f2ea385e45b3_jpg.rf.1b19b61606bd9199fa0f774c35cf8986 - Copy.jpg: 640x640 2 license-plates, 16.4ms\n",
            "image 34/80 /content/drive/MyDrive/project/veh-lic-merged/test/images/b8a3f2ea385e45b3_jpg.rf.1b19b61606bd9199fa0f774c35cf8986.jpg: 640x640 2 license-plates, 16.4ms\n",
            "image 35/80 /content/drive/MyDrive/project/veh-lic-merged/test/images/b91c3aaba25bf914_jpg.rf.1f03184f0c412a59b83c4099861cedcf - Copy.jpg: 640x640 1 license-plate, 1 vehicle, 16.4ms\n",
            "image 36/80 /content/drive/MyDrive/project/veh-lic-merged/test/images/b91c3aaba25bf914_jpg.rf.1f03184f0c412a59b83c4099861cedcf.jpg: 640x640 1 license-plate, 1 vehicle, 16.4ms\n",
            "image 37/80 /content/drive/MyDrive/project/veh-lic-merged/test/images/b94993a2d67b455e_jpg.rf.62712d980344cb842644f82e63b13092 - Copy.jpg: 640x640 1 license-plate, 1 vehicle, 16.4ms\n",
            "image 38/80 /content/drive/MyDrive/project/veh-lic-merged/test/images/b94993a2d67b455e_jpg.rf.62712d980344cb842644f82e63b13092.jpg: 640x640 1 license-plate, 1 vehicle, 16.4ms\n",
            "image 39/80 /content/drive/MyDrive/project/veh-lic-merged/test/images/b9f5b9acf1777acf_jpg.rf.b92969d5c3738ece6a84dcd2d0ea3ce0 - Copy.jpg: 640x640 1 license-plate, 2 vehicles, 16.4ms\n",
            "image 40/80 /content/drive/MyDrive/project/veh-lic-merged/test/images/b9f5b9acf1777acf_jpg.rf.b92969d5c3738ece6a84dcd2d0ea3ce0.jpg: 640x640 1 license-plate, 2 vehicles, 16.4ms\n",
            "image 41/80 /content/drive/MyDrive/project/veh-lic-merged/test/images/bbcac63e32bd8137_jpg.rf.ef4704b0ada4fbbf613143abf52f6f86 - Copy.jpg: 640x640 1 license-plate, 1 vehicle, 16.4ms\n",
            "image 42/80 /content/drive/MyDrive/project/veh-lic-merged/test/images/bbcac63e32bd8137_jpg.rf.ef4704b0ada4fbbf613143abf52f6f86.jpg: 640x640 1 license-plate, 1 vehicle, 16.4ms\n",
            "image 43/80 /content/drive/MyDrive/project/veh-lic-merged/test/images/bd12ea92bcab1afd_jpg.rf.fe51aa4c3da615ae6656ea88fc7250e3 - Copy.jpg: 640x640 1 license-plate, 1 vehicle, 19.2ms\n",
            "image 44/80 /content/drive/MyDrive/project/veh-lic-merged/test/images/bd12ea92bcab1afd_jpg.rf.fe51aa4c3da615ae6656ea88fc7250e3.jpg: 640x640 1 license-plate, 1 vehicle, 16.4ms\n",
            "image 45/80 /content/drive/MyDrive/project/veh-lic-merged/test/images/be654a7eabe0e891_jpg.rf.5e43d4106641423a278d096d24822902 - Copy.jpg: 640x640 1 license-plate, 1 vehicle, 16.4ms\n",
            "image 46/80 /content/drive/MyDrive/project/veh-lic-merged/test/images/be654a7eabe0e891_jpg.rf.5e43d4106641423a278d096d24822902.jpg: 640x640 1 license-plate, 1 vehicle, 16.4ms\n",
            "image 47/80 /content/drive/MyDrive/project/veh-lic-merged/test/images/be9fd0014b5a4f2a_jpg.rf.20dc7369d0a83ad74a123727228dce11 - Copy.jpg: 640x640 1 license-plate, 1 vehicle, 17.5ms\n",
            "image 48/80 /content/drive/MyDrive/project/veh-lic-merged/test/images/be9fd0014b5a4f2a_jpg.rf.20dc7369d0a83ad74a123727228dce11.jpg: 640x640 1 license-plate, 1 vehicle, 16.4ms\n",
            "image 49/80 /content/drive/MyDrive/project/veh-lic-merged/test/images/bf0aac0878b0a3d2_jpg.rf.43ce523ba85e649db07055557d72cc9e - Copy.jpg: 640x640 1 license-plate, 16.4ms\n",
            "image 50/80 /content/drive/MyDrive/project/veh-lic-merged/test/images/bf0aac0878b0a3d2_jpg.rf.43ce523ba85e649db07055557d72cc9e.jpg: 640x640 1 license-plate, 16.4ms\n",
            "image 51/80 /content/drive/MyDrive/project/veh-lic-merged/test/images/bf2f25f3ed9ff4d5_jpg.rf.e9d07ec8b85372d40366bc2770b7d537 - Copy.jpg: 640x640 1 license-plate, 1 vehicle, 16.4ms\n",
            "image 52/80 /content/drive/MyDrive/project/veh-lic-merged/test/images/bf2f25f3ed9ff4d5_jpg.rf.e9d07ec8b85372d40366bc2770b7d537.jpg: 640x640 1 license-plate, 1 vehicle, 16.3ms\n",
            "image 53/80 /content/drive/MyDrive/project/veh-lic-merged/test/images/c1d8b110186e095a_jpg.rf.1515701021c709417f9e92537a1d3714 - Copy.jpg: 640x640 1 license-plate, 1 vehicle, 16.3ms\n",
            "image 54/80 /content/drive/MyDrive/project/veh-lic-merged/test/images/c1d8b110186e095a_jpg.rf.1515701021c709417f9e92537a1d3714.jpg: 640x640 1 license-plate, 1 vehicle, 16.4ms\n",
            "image 55/80 /content/drive/MyDrive/project/veh-lic-merged/test/images/c274e026ac907eb9_jpg.rf.2388de7229ba0dd3051326f64c1a770b - Copy.jpg: 640x640 1 license-plate, 1 vehicle, 16.4ms\n",
            "image 56/80 /content/drive/MyDrive/project/veh-lic-merged/test/images/c274e026ac907eb9_jpg.rf.2388de7229ba0dd3051326f64c1a770b.jpg: 640x640 1 license-plate, 1 vehicle, 16.4ms\n",
            "image 57/80 /content/drive/MyDrive/project/veh-lic-merged/test/images/c650ff8d3e8e75b3_jpg.rf.a469a8f0edb8fddf8e2b70b102f5a5eb - Copy.jpg: 640x640 1 license-plate, 3 vehicles, 16.4ms\n",
            "image 58/80 /content/drive/MyDrive/project/veh-lic-merged/test/images/c650ff8d3e8e75b3_jpg.rf.a469a8f0edb8fddf8e2b70b102f5a5eb.jpg: 640x640 1 license-plate, 3 vehicles, 16.4ms\n",
            "image 59/80 /content/drive/MyDrive/project/veh-lic-merged/test/images/c7df5232291486a3_jpg.rf.d18b52a383576cfe6c4ec343fca07a80 - Copy.jpg: 640x640 1 license-plate, 1 vehicle, 16.3ms\n",
            "image 60/80 /content/drive/MyDrive/project/veh-lic-merged/test/images/c7df5232291486a3_jpg.rf.d18b52a383576cfe6c4ec343fca07a80.jpg: 640x640 1 license-plate, 1 vehicle, 16.4ms\n",
            "image 61/80 /content/drive/MyDrive/project/veh-lic-merged/test/images/c91ee912164d8ecb_jpg.rf.5a70d8b40bde25a3a4cb09337bf0c6f9 - Copy.jpg: 640x640 1 license-plate, 2 vehicles, 16.4ms\n",
            "image 62/80 /content/drive/MyDrive/project/veh-lic-merged/test/images/c91ee912164d8ecb_jpg.rf.5a70d8b40bde25a3a4cb09337bf0c6f9.jpg: 640x640 1 license-plate, 2 vehicles, 16.4ms\n",
            "image 63/80 /content/drive/MyDrive/project/veh-lic-merged/test/images/cb4b754537798d23_jpg.rf.310e3c4544bf89d2f3109956b301db20 - Copy.jpg: 640x640 2 license-plates, 1 vehicle, 16.4ms\n",
            "image 64/80 /content/drive/MyDrive/project/veh-lic-merged/test/images/cb4b754537798d23_jpg.rf.310e3c4544bf89d2f3109956b301db20.jpg: 640x640 2 license-plates, 1 vehicle, 16.4ms\n",
            "image 65/80 /content/drive/MyDrive/project/veh-lic-merged/test/images/cb8c75fc1c7ccf73_jpg.rf.a6d315cf4a3ef0824075df8c8561838b - Copy.jpg: 640x640 1 license-plate, 1 vehicle, 16.4ms\n",
            "image 66/80 /content/drive/MyDrive/project/veh-lic-merged/test/images/cb8c75fc1c7ccf73_jpg.rf.a6d315cf4a3ef0824075df8c8561838b.jpg: 640x640 1 license-plate, 1 vehicle, 16.3ms\n",
            "image 67/80 /content/drive/MyDrive/project/veh-lic-merged/test/images/ccc1a2d44a290368_jpg.rf.8e8d6f87f1d1327caf5f80e0c96cdad9 - Copy.jpg: 640x640 1 license-plate, 1 vehicle, 16.4ms\n",
            "image 68/80 /content/drive/MyDrive/project/veh-lic-merged/test/images/ccc1a2d44a290368_jpg.rf.8e8d6f87f1d1327caf5f80e0c96cdad9.jpg: 640x640 1 license-plate, 1 vehicle, 16.3ms\n",
            "image 69/80 /content/drive/MyDrive/project/veh-lic-merged/test/images/cdb1e8621d1c624e_jpg.rf.b744b93a7af0771f1e5cb955155c8451 - Copy.jpg: 640x640 1 license-plate, 1 vehicle, 16.4ms\n",
            "image 70/80 /content/drive/MyDrive/project/veh-lic-merged/test/images/cdb1e8621d1c624e_jpg.rf.b744b93a7af0771f1e5cb955155c8451.jpg: 640x640 1 license-plate, 1 vehicle, 16.4ms\n",
            "image 71/80 /content/drive/MyDrive/project/veh-lic-merged/test/images/ce97f7bc90e97109_jpg.rf.0ee971ca2acc7c8826290a5a80153777 - Copy.jpg: 640x640 1 license-plate, 2 vehicles, 16.4ms\n",
            "image 72/80 /content/drive/MyDrive/project/veh-lic-merged/test/images/ce97f7bc90e97109_jpg.rf.0ee971ca2acc7c8826290a5a80153777.jpg: 640x640 1 license-plate, 2 vehicles, 16.4ms\n",
            "image 73/80 /content/drive/MyDrive/project/veh-lic-merged/test/images/d027c6e32db60e3c_jpg.rf.15a865d02f390ef84fca8e053946db31 - Copy.jpg: 640x640 1 license-plate, 1 vehicle, 16.4ms\n",
            "image 74/80 /content/drive/MyDrive/project/veh-lic-merged/test/images/d027c6e32db60e3c_jpg.rf.15a865d02f390ef84fca8e053946db31.jpg: 640x640 1 license-plate, 1 vehicle, 16.4ms\n",
            "image 75/80 /content/drive/MyDrive/project/veh-lic-merged/test/images/d27e094e98374ff8_jpg.rf.a0e0eba539117b97eb6433295c4cfb44 - Copy.jpg: 640x640 1 license-plate, 2 vehicles, 16.3ms\n",
            "image 76/80 /content/drive/MyDrive/project/veh-lic-merged/test/images/d27e094e98374ff8_jpg.rf.a0e0eba539117b97eb6433295c4cfb44.jpg: 640x640 1 license-plate, 2 vehicles, 16.4ms\n",
            "image 77/80 /content/drive/MyDrive/project/veh-lic-merged/test/images/d28d71c2690c16ed_jpg.rf.b7c4b2a5e5870d9fcf8644c109c5457f - Copy.jpg: 640x640 2 license-plates, 2 vehicles, 16.4ms\n",
            "image 78/80 /content/drive/MyDrive/project/veh-lic-merged/test/images/d28d71c2690c16ed_jpg.rf.b7c4b2a5e5870d9fcf8644c109c5457f.jpg: 640x640 2 license-plates, 2 vehicles, 16.3ms\n",
            "image 79/80 /content/drive/MyDrive/project/veh-lic-merged/test/images/d2fe2b47668e9d8e_jpg.rf.c3c019d146ec1fc0bcf7fbeb12c7bc7f - Copy.jpg: 640x640 1 license-plate, 1 vehicle, 16.4ms\n",
            "image 80/80 /content/drive/MyDrive/project/veh-lic-merged/test/images/d2fe2b47668e9d8e_jpg.rf.c3c019d146ec1fc0bcf7fbeb12c7bc7f.jpg: 640x640 1 license-plate, 1 vehicle, 16.3ms\n",
            "Speed: 2.6ms preprocess, 16.4ms inference, 8.0ms postprocess per image at shape (1, 3, 640, 640)\n",
            "Results saved to \u001b[1mruns/detect/predict\u001b[0m\n",
            "💡 Learn more at https://docs.ultralytics.com/modes/predict\n"
          ]
        }
      ]
    }
  ]
}